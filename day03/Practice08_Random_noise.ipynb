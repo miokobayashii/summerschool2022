{
  "nbformat": 4,
  "nbformat_minor": 0,
  "metadata": {
    "colab": {
      "name": "Practice08 Random noise.ipynb",
      "provenance": [],
      "authorship_tag": "ABX9TyO5F5VWpn2kle6w62aaXnq9",
      "include_colab_link": true
    },
    "kernelspec": {
      "name": "python3",
      "display_name": "Python 3"
    },
    "language_info": {
      "name": "python"
    }
  },
  "cells": [
    {
      "cell_type": "markdown",
      "metadata": {
        "id": "view-in-github",
        "colab_type": "text"
      },
      "source": [
        "<a href=\"https://colab.research.google.com/github/miokobayashii/summerschool2022/blob/main/day03/Practice08_Random_noise.ipynb\" target=\"_parent\"><img src=\"https://colab.research.google.com/assets/colab-badge.svg\" alt=\"Open In Colab\"/></a>"
      ]
    },
    {
      "cell_type": "markdown",
      "source": [
        "Learn about random noise generation"
      ],
      "metadata": {
        "id": "cV8LQmQ8eVHh"
      }
    },
    {
      "cell_type": "code",
      "execution_count": 2,
      "metadata": {
        "id": "T9xnr_vieK3A"
      },
      "outputs": [],
      "source": [
        "import numpy as np\n",
        "import matplotlib.pyplot as plt"
      ]
    },
    {
      "cell_type": "code",
      "source": [
        "np.random.normal?"
      ],
      "metadata": {
        "id": "gQC9QJ9_fKlW"
      },
      "execution_count": 29,
      "outputs": []
    },
    {
      "cell_type": "code",
      "source": [
        "np.random.rand?"
      ],
      "metadata": {
        "id": "uH1-9X4ojy8A"
      },
      "execution_count": 26,
      "outputs": []
    },
    {
      "cell_type": "code",
      "source": [
        "data_size = 1000\n",
        "data_set_norm = np.random.normal(0,1,(data_size,data_size))"
      ],
      "metadata": {
        "id": "PyhrbHn-hkPs"
      },
      "execution_count": 38,
      "outputs": []
    },
    {
      "cell_type": "code",
      "source": [
        "plt.figure(figsize=(5, 5))\n",
        "plt.ylim(-3,3)\n",
        "plt.xlim(-3,3)\n",
        "plt.plot(data_set_norm[0], data_set_norm[1], '.')\n"
      ],
      "metadata": {
        "id": "K58cpuitiP1H"
      },
      "execution_count": null,
      "outputs": []
    },
    {
      "cell_type": "code",
      "source": [
        "data_set_rand = np.random.rand(data_size, data_size) "
      ],
      "metadata": {
        "id": "zCTyUGyEjeAH"
      },
      "execution_count": 43,
      "outputs": []
    },
    {
      "cell_type": "code",
      "source": [
        "plt.figure(figsize=(5, 5))\n",
        "plt.ylim(-3,3)\n",
        "plt.xlim(-3,3)\n",
        "plt.plot(data_set_rand[0], data_set_rand[1], '.')"
      ],
      "metadata": {
        "id": "oiUEfxh2kfRX"
      },
      "execution_count": null,
      "outputs": []
    },
    {
      "cell_type": "markdown",
      "source": [
        "Write down your comment and consideration."
      ],
      "metadata": {
        "id": "ZDT2Uw4AvVCJ"
      }
    },
    {
      "cell_type": "code",
      "source": [
        ""
      ],
      "metadata": {
        "id": "kyMPLScvvgY3"
      },
      "execution_count": null,
      "outputs": []
    }
  ]
}